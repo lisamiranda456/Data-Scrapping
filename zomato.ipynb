{
 "cells": [
  {
   "cell_type": "code",
   "execution_count": 90,
   "metadata": {},
   "outputs": [],
   "source": [
    "from selenium import webdriver\n",
    "from bs4 import BeautifulSoup\n",
    "import os\n",
    "path_tounzipfile=\"C:/Users/Administrator/Desktop/Data Scraping\"\n",
    "os.chdir(path_tounzipfile)\n",
    "browser=webdriver.Firefox(path_tounzipfile)"
   ]
  },
  {
   "cell_type": "code",
   "execution_count": 91,
   "metadata": {},
   "outputs": [],
   "source": [
    "url1='https://www.zomato.com/bangalore/hyderabadi-spice-3-electronic-city/reviews'\n",
    "browser.get(url1)"
   ]
  },
  {
   "cell_type": "code",
   "execution_count": 92,
   "metadata": {},
   "outputs": [],
   "source": [
    "els=browser.find_elements_by_class_name(\"item\")"
   ]
  },
  {
   "cell_type": "code",
   "execution_count": 93,
   "metadata": {},
   "outputs": [
    {
     "data": {
      "text/plain": [
       "59"
      ]
     },
     "execution_count": 93,
     "metadata": {},
     "output_type": "execute_result"
    }
   ],
   "source": [
    "len(els)"
   ]
  },
  {
   "cell_type": "code",
   "execution_count": 94,
   "metadata": {},
   "outputs": [
    {
     "name": "stdout",
     "output_type": "stream",
     "text": [
      "found\n"
     ]
    }
   ],
   "source": [
    "for i in els:\n",
    "    if(i.text.strip().split(\"\\n\")[0].strip()==\"All Reviews\"):\n",
    "        print(\"found\")\n",
    "     "
   ]
  },
  {
   "cell_type": "code",
   "execution_count": 95,
   "metadata": {},
   "outputs": [
    {
     "data": {
      "text/plain": [
       "[<selenium.webdriver.firefox.webelement.FirefoxWebElement (session=\"78db2055-a3e2-4109-b5dc-c50efcd8969e\", element=\"ccca2691-91eb-490c-8f5e-2c7fb226c66e\")>]"
      ]
     },
     "execution_count": 95,
     "metadata": {},
     "output_type": "execute_result"
    }
   ],
   "source": [
    "#path to the html elements\n",
    "el=browser.find_elements_by_xpath(\"/html/body/div[7]/div[1]/div/div[1]/div[3]/div/div[3]/div[1]/div[1]/div[1]/div/div[3]/a[2]\")\n",
    "el"
   ]
  },
  {
   "cell_type": "code",
   "execution_count": 96,
   "metadata": {},
   "outputs": [],
   "source": [
    "el[0].click()"
   ]
  },
  {
   "cell_type": "code",
   "execution_count": 97,
   "metadata": {},
   "outputs": [],
   "source": [
    "btns=browser.find_elements_by_class_name('zred')"
   ]
  },
  {
   "cell_type": "code",
   "execution_count": 98,
   "metadata": {},
   "outputs": [
    {
     "data": {
      "text/plain": [
       "10"
      ]
     },
     "execution_count": 98,
     "metadata": {},
     "output_type": "execute_result"
    }
   ],
   "source": [
    "len(btns)"
   ]
  },
  {
   "cell_type": "code",
   "execution_count": 101,
   "metadata": {},
   "outputs": [],
   "source": [
    "import time\n",
    "while True:\n",
    "    btns=browser.find_elements_by_class_name('zred')\n",
    "    state={}\n",
    "    for btn in btns:\n",
    "        if btn.text.strip()==\"LOAD MORE\":\n",
    "            state[btn]=1\n",
    "            btn.click()\n",
    "            time.sleep(2)\n",
    "        else:\n",
    "            state[btn]=0\n",
    "    if sum(state.values())==0:\n",
    "        break"
   ]
  },
  {
   "cell_type": "code",
   "execution_count": null,
   "metadata": {},
   "outputs": [],
   "source": [
    "|#we check the state for eack page , if the page consists of a button the sum(state.values) will\n",
    "#be one."
   ]
  },
  {
   "cell_type": "code",
   "execution_count": 102,
   "metadata": {},
   "outputs": [],
   "source": [
    "html=browser.page_source"
   ]
  },
  {
   "cell_type": "code",
   "execution_count": 103,
   "metadata": {},
   "outputs": [],
   "source": [
    "soup=BeautifulSoup(html,'html.parser')"
   ]
  },
  {
   "cell_type": "code",
   "execution_count": 110,
   "metadata": {},
   "outputs": [],
   "source": [
    "reviews=[]\n",
    "for i in soup.find_all(\"div\",class_=\"rev-text\"):\n",
    "    reviews.append(i.text.strip(\"Rated\\xa0\\n \"))"
   ]
  },
  {
   "cell_type": "code",
   "execution_count": 111,
   "metadata": {},
   "outputs": [
    {
     "data": {
      "text/plain": [
       "['If you are pure vegetarian, pls do not order the food from this restaurant. Ordered paneer 65, for chicken 65 and chicken biryani rice instead of veg biryani.',\n",
       " '',\n",
       " 'Everything about Hyderabadi Spice is good so far, but add ons are a waste so request you to put an option to choose add on like a raita or some gravy etc.',\n",
       " 'Hyderabadi spice biryani also one of the best biryani spot in Bangalore...biryani nice taste but there is no spice..only normal spice.. chicken pieces are very juice well cooked chicken..one person sufficient can eat biryani y iam giving 3 star I want to spice biryani.or other wise who ever intersed to eat lite masala they can choose hyd spic',\n",
       " 'Had been there multiple times but had a poor experience during the last time. Taste wise it was good but quality was very bad as we found a small cockroach in the biryani which we ordered. There were so many kids eating food at that time in this restaurant but it was not at all hygienic.',\n",
       " \"Always a favorite place whenever I'll feel hungry, best option which offers quick service. Price is less and the taste of the food is awesom\",\n",
       " 'Love the chicken biryani😋\\nQuantity is very good👌\\nLove the spice..\\nI recommend this restaurant...\\nVeg lovers can try Panner biryani too good 😋',\n",
       " 'Hello Hyderabad spice I like your biryani but the problem is after giving you good ratings and review zomato has stopped giving me discounts on your food items . Kindly look into it as I really like your food. Thanks in advanc',\n",
       " \"They provide an authentic Hyderabadi Biryani taste which you'll not find anywhere in Bangalore. Quantity and quality is good at a reasonable price.\",\n",
       " 'I ordered chicken biriyani and it was good with reasonable price.\\nThe taste of biriyani was a little spicy and the rice was real biriyani rice.',\n",
       " 'This restaurant never fails to impress. Every order is fresh and mouth watering and u keep wanting more. Excellent job, keep up the excellent quality . Thanks',\n",
       " \"It's our go-to place for any kind of quick plans. We always order for a plate of Chilli Chicken whenever we vist the outlet. They give such a good quantity of chilli chicken at just Rs. 120. We tried their Chilli Baby Corn once and it was tasty too. We also place orders for Veg Biryani and Special Chicken Biryani whenever we go there. Although I'm not a big fan of their biryani since I find the rice a bit watery/wet but it doesn't taste bad at all. If you're looking for an extremely budget friendly place, do visit them.\\n\\nCheers to food! Cheers to life!\\n\\nPocket pinch: 250-300 for two\",\n",
       " 'Good Hyderabadi restaurant. Ambiance is good and staff is friendly. one of the good restaurant which serves quality hyderabi dishes in Electronic city. great taste and spicy',\n",
       " 'The quality of biryani is really bad service is bad. The place is always crowded which is it a bad thing but service is extremely bad. Indian breads and curries are good.overall experience is above average. Otherwise if you are looking for a quick dinner this is the place.',\n",
       " 'Nice Biriyani tasted like peri peri chicken Biriyani, food was good and tasted nice and quantity was good too. Will order again. 11111111111',\n",
       " 'Chicken Biriyani and boneless chicken curry is awesome, you can blindly order these items N number of time, even though you will not get bored.☺️☺️☺️',\n",
       " \"We ordered chilli chicken and butter naan. And while serving the chicken to my friend I happened to see insect's waste on the chicken plate. Later when we checked the same with the hotel manager he refused to say anything. So please check before you guys eat from this place. Personally I would never recommend this place to anyone.\",\n",
       " 'Very nice biryani. I had tried egg and chicken biryani both of which are tasty. Tasty food and used to eat here during lunch time. Quick delivery, enjoyed the foo',\n",
       " \"Food is good but there Is no parking specially if you have car.\\nIf you order they don't use good packaging so food get leak. Its almost for any food you order. High charge on packaging and worst packing ever.\",\n",
       " 'cently ordered Chicken Biriyani from here. Taste was good, but side dish they provided was not up to the mark. Salad the provided was more like butter milk, even gravy was not upto the mark in terms of taste. But taste and quantity was good. In fact, it is more than what a person can eat.',\n",
       " 'Super taste and chicken is soft I really enjoyed.great come after my last feedback.',\n",
       " 'very goo',\n",
       " 'Ordered prawn and Mutton briyani from Hyderbadi Spice Electronic City phase 1 and was delivered two packets of chicken briyani 😐. Further trying to reach Zomato customer care but no one is responding. Swiggy will be a much better choice I believ',\n",
       " 'Chicken is rubbery',\n",
       " \"Not Good.. Once I ordered it looks so delicious and tasty but in real it was yesterday's food.. Smells bad... When I tested I vomited.. Never try from here.. Zomoto also not responding.. And restaurant also not reachable... So if you don't want to suffer then don't go for this... Don't know how the rating is good.. 😒😒\",\n",
       " \"Please spend some time to read, before you order in this restaurant (Hydearabadi Spice)\\n\\nOrder ID: 1325160104\\nI have ordered Veg Panner Biriyani, plain biriyani rice and Gobi Manchuria along with kaju panner curry.\\n\\nThey have mixed Chicken Pieces in panner biriyani. Observed that, oil and food items are not hygienic and for curries they will add food colours, it may cause sick and for your kids may happen stomach upset.. They don't have concern to run the business and even they didn't understand simple English to read the order. They are not deserve as a restaurant. Shame on you Guys..\\n\\nWARNING ⚠ ..Pure Vegetarians and My Dear customers... Please Stay Away from Hyderabadi Spice.\",\n",
       " 'I have ordered special chicken briyani.. Taste is so good and quality also perfect but food packing very bad and also delivery taking more time..',\n",
       " 'I had ordered mushroom 🍄 biriyani . It really tasted good while eating. The long basmati rice had soothing flavour with good amount of mushrooms on it. But after consuming I had terrible experience. I kept on burping till late night. How much ever water 💦 I drank never helped. Not sure what was wrong . Hence I will not recommend this place .',\n",
       " 'good foo',\n",
       " 'Biriyani was delicious. I have ordered one chicken briyani. Quantity is sufficient for two people for one person it is too much. Must try it.',\n",
       " 'Loved the food... Biriyani was just awesome.. have also tried other nonveg dishes, superliked all the items..\\nThis restaurant has been my first choice always even for the Online food-orders.. price is reasonable, again by applying coupon it becomes so less, and moreover food quality is really appealing..',\n",
       " 'I love the food quality of this restaurant. They are the best in Electronic City area. They serves hygienic and delicious food. My favourite menu is Chicken Dum and Special Biryani and almost all chicken starters.',\n",
       " 'Good Servic',\n",
       " 'Food is good. pocket friendly place. Staff is polite. Its chicken biriyani and chicken kolahpuri is very good. On weekend crowded. On weekend you may have to wai',\n",
       " \"Located in Electronic City near CCD and many IT company this place is powerpacked on every day ...while we visited on a weekday at dinner around 8.30pm it was fully packed ..Groups /individual /family &couples ...\\n\\nA Very limited menu but very fast service ...from order taking to order serving in table is very quick .\\n\\nTastewise food are good ...5/4 rating .\\n\\nParking is an issue and the passage to hotel entrance has a smoking area were most of the people are smoking all around this may discomfort.\\n\\nComing yo our order\\nStarters : Chicken Tangdi Kebab\\nChilly Fish\\nCorn Chilly\\nPanner Tikka\\nMaincourse\\nButter Naan\\nMutton Rogan Josh\\nPannerTikka Masala\\nhyderabadi Chicken Biryani\\nSides : Onions and lemon\\nWatery Raita and Salan\\n\\nAnd one takeaway parcel of biryani\\n\\nTo end up as the restaurant doesn't serve dessert we opted for Sweet Lassi\\n\\nFast selling and timigs is the key for there al time crowd..if you miss the time most of products will be unavailable.\\n\\nVFM as we were 5 and the total bill was close to 1300/-\\n\\nAn overall quick and great experience.\",\n",
       " 'Good food and friendly environment,\\nFood was awesome must try items: Fish chilli and Hyderabad chicken special starter\\nVery much affordable plac',\n",
       " 's all the time Hyderabad spice is best, 1star minus for not giving sal',\n",
       " 'Hyderabadi spice is a place for biryani.The biryani I had was very tasty,the real taste of Hyderabad.The aroma was very relishing and the chicken was well cooked.The quantity was apt for two persons.',\n",
       " \"You have to try their special chicken wings especially. Their chicken biryanis are also absolutely fabulous. Great Food at a reasonable price. If you are going then please try Rainbow Biryani or Rainbow Masala with roti/nan. Then don't have that in the menu, just ask for it explicitly.Cost effective as well as good quality is what I have observed. The main issue here is we mostly visit this place on Friday's for lunch we have to wait a lot for grabbing a table. Chicken dum biryani, Apollo fish , barbecue chicken etc are there specials which I like the most.It's a proper Hyderabadi biryani joint. Your taste buds will be satisfied and it won't burn a hole in your pocket.\",\n",
       " 'Food - 4.5/5, Service - 3/5, Ambience - 2.5/5, Value for Money - 4/5 : One of best Hyderbadi Chicken Biryani...I had heard so much about this place, that I decided to try it out, this place is opposite to Wipro gate and can be easily missed if you are not looking for it. You will have to throw out the hygiene factor, cleanliness out of the window. This is very small place and people come here just to hog on the Biryani. I tried take away also, they are very generous with take away. It is almost like 1.5 times the portion they serve at the restaurant. Value for money...\\n                                                                jpfoodplanet.blogspot.com',\n",
       " 'Cheeters didnt dilever full items and if i call back they r telling book once again we will refund amount like th',\n",
       " 'Ordered an egg and chicken biriyani \\nBoth the biriyani’s and chicken are very cold\\nThey directly brought it from fridge. \\nI will never recommend to visit or Oder form this restauran',\n",
       " 'Good servic',\n",
       " \"I ordered mutton biriyani. But I got chicken biriyani.. I didn't expect this from hyderabadi spice... I was disappointed.. But the taste is good... Don't do this again\",\n",
       " \"Worst service fixing luck MB do MSN neg irksome idk bro NFL MSN o'clock Canuck clan mandrill Islamism BC also Kandy OSI vent MSI she Kai wine idk we've ISO 0 on TTY where web it if CLI GB ESC m\",\n",
       " 'spicy less',\n",
       " 'The worst food i never had in my life, and peoples from the shop also not answering properly so please dont chose this restarents for ordering.',\n",
       " 'Today we had ordered chicken biryanis and the taste of biryani was really pathetic, It was like a plane rice no taste of biryani even the rice was looking completely white but last time we had ordered it was very good.\\nDon’t spoil your brand value.',\n",
       " 'very spicy & tasty',\n",
       " 'poor wrong delivery',\n",
       " 'not met expectations',\n",
       " 'ime to shift to new restauran',\n",
       " 'Taste has to be improv',\n",
       " 'quick delivery',\n",
       " 'punctual and hygienic',\n",
       " 'worst pepper chicken, it was smelling raw....yucky',\n",
       " 'veg biryani was very spicy \\npaneer biryani was okay',\n",
       " 'Both Quality and quantity has gone bad. Chicken biryani didn’t had chicken on it. I had ordered chicken dum Biryani but there was no dum in the Biryani, it was complete white rice.',\n",
       " 'super fast delivery man',\n",
       " 'quality wise good with tasty foo',\n",
       " 'Here you will find great Biryannis. Had Special biryanni once and loved it the most. Rooti sabjis are quite good too. Sad part is they start to shutdown by 10pm.Rest, food quality is good quantity is great overall decent place to have early dinner',\n",
       " 'Packing has to be improved.',\n",
       " 'please try to deliver on tim',\n",
       " 'not maintain proper tim',\n",
       " 'Biryani was not good. Rice was wet and overcooked. Even the chicken in biryani was half the quantity than usual. I am not happy with the experience. I had ordered Biryani many times but 1st time bad experience. I want refun',\n",
       " \"Chicken masala was not good.\\nMutton birayani was awesome\\nOn swiggy they have mutton main course\\nmenus\\nBut here on zomato there is no mutton main course items\\nI don't know why.\\nButter nan was very bad.\\nKulcha was good.\",\n",
       " 'Special chicken Biryani and Mutton Biryani are good. Starters are okay. The costs are not high and one can get a decent food at a very affordable pric',\n",
       " 'fin',\n",
       " 'ORDERED Mutton biryani but i got chicken biryani ..',\n",
       " 'food was nice, chicken quantity was more than usual',\n",
       " 'hey din provide sauc',\n",
       " 'Quality samos',\n",
       " 'professional delivery boy.',\n",
       " 'happy',\n",
       " 'less chicken, no onion',\n",
       " 'goo',\n",
       " 'I have ordered in Hyd spicy and after 1 hour the order got rejected, its very useless response from them, I never thought that it will be rejected. After 11.10PM have came to know that its was rejected .\\xa0to the core irritated by Zomota, really worst service by zomota customer car',\n",
       " 'Awesome food. Spicy and very tasty. On time delivery. After long time I feel like I am at Hyderabad. Taste like same as Hyderabad biryani...',\n",
       " 'need to Improve. add some Spicy Tas',\n",
       " 'Goo',\n",
       " 'Third class food here. I ordered Special Chicken Biriyani , there was few pieces of chicken which was dry and no taste, and instead of full egg I received half egg. Improve the quality of food first. Then come for delivery.',\n",
       " 'goo',\n",
       " 'Awesome food really very nic',\n",
       " 'We ordered special chicken biryani. It was taste toooo good with reasonable cost. And delivery order also came in time. Eat and enjoy.......',\n",
       " \"I ordered chicken biryani on zamoto. But it's normal biryani with two chicken pieces.\\n\\nBad kulchas not at all fresh. Manchiura is good and better\",\n",
       " 'food is not goo',\n",
       " \"I am regular customer fro hyderabadi since months now. Was disappointed with yesterday's food. Roti was pathetic was hard and not edible and was roas\",\n",
       " \"5 star to 1 star only becoz they doesn't meet the requirement. They do not understand the meaning of extra raita.\\nOtherwise Biryani is good.\",\n",
       " 'Biryani is great, can improve the raita and curry served. You can go for this restaurant if you love biryani. The speciality here is Chicken special biryani, however my favourite has been Mutton biryani.',\n",
       " 'he chicken was sweet. Rice was good. Raita was very little.',\n",
       " 'Value for money.Had ordered Tandori chicken and Chicken Biryani.Tandori was good.Biryani was ok.The ambience of the restaurant is not good.Service was good and fast.If you want a descent biryani and in that area,then can go there.',\n",
       " 'The best place to have biryani around electronic city\\nTried boneless chicken biryani, tandoori chicken biryani, chicken tandoori, chicken 555 and barbeque chicken. All the dishes are awesome. They need not tell visit us again because once we go there we get addicted to their tasty food!',\n",
       " 'very oily and spicy',\n",
       " 'xcellent tas',\n",
       " 'Not happy with the food delivered.\\nfood was almost rotten.\\nbad quality food delivered to me.  I just threw this once that I got delivered. waste of money and time.\\nwill never recommend any one zamato service or this restaurant , Disappointed!!',\n",
       " 'I ordered Kadai veg (which is my favorite) and it was delivered just as they serve in restaurant.',\n",
       " \"I have ordered 4 Biryani's. No onion & lemon in parcel even requested. They should not do this every time. Please check parcel everytime whenever you get order from spice.\",\n",
       " 'very goo',\n",
       " 'goo',\n",
       " 'He charged extra money',\n",
       " 'I had ordered a lemon chicken starter. The quantity was very less and the quality was just okay.',\n",
       " 'wrong delivery don',\n",
       " 'Delivery delayed infinitely and upset with with ridiculous service !!\\n\\nFake assurances and fooling people with no limits .\\n\\nVery upset and disturbing service !!',\n",
       " 'Biryani was Awesome.....Had such a delicious biryani after so long.....10star',\n",
       " \"I ordered special chicken biriyani. But there I found 2pices of different meat. Don't know what was th\",\n",
       " 'I have ordered for mushroom Manchurian, instead they gave babycorn Manchurian. My friend is a vegetarian and he ordered veg biryani rice, but they gave non-veg biryani rice.Very bad experience.',\n",
       " 'wrong food delivered.',\n",
       " \"I'd asked for lemons, which weren't given. food was good otherwise. chicken needed some sal\",\n",
       " 'briyani not good.',\n",
       " 'livery late.. and before delivery app update that item was already deliver',\n",
       " 'आपकी बिरयानी तो किसी शायर का ख्वाब हो, किसी खूबसूरत कहानी का अंजाम हो, गुलशन की वादियो की खुश्बू, या शुक्रवार के खाने की शान हो 🙏',\n",
       " 'goo',\n",
       " 'Good serives',\n",
       " 'Just ordered special chicken biryani and whats so special u know? Cockroaches !! Imagine how many people’s have eaten the same cockroach biryani today',\n",
       " 'Not nic',\n",
       " 'if your Biryani was a super hero, it would have been Batgirl: awesome in colour, shape, with best taste of breasts and legs ❤',\n",
       " 'good food and timely delivery',\n",
       " 'Goo',\n",
       " 'Big fan of special chicken biryani and paneer chilly. Have never disappointed with the taste. Sometimes the order might the delayed.',\n",
       " 'Very nice & delicious food. They prepare food as per the instructions also. Biriyanis are very nice.',\n",
       " 'Its delayed 2mts',\n",
       " 'wesom',\n",
       " 'goo',\n",
       " 'licious food.',\n",
       " 'Tasty',\n",
       " 'no tas',\n",
       " 'I had zomatoed Chicken 65,after observing that the restaurant has decent rating. I had the most pathetic Chicken 65 ever!First of all the chicken pieces were all hard and with bones ,plus it felt that the chicken pieces were half cooked.There was only masala layered over the surface of the chicken pieces with no taste at all.I was really disappointed by the order.',\n",
       " 'Good food this time. Impeccable delivery.',\n",
       " 'pathectic cold food. ordered special chicken biryani. total waste. there was chicken bone inside package.',\n",
       " 'not good at all, no proper chicken pieces',\n",
       " 'on tim',\n",
       " 'll thing is good but why they are not provide onion and lemon always',\n",
       " 'goo',\n",
       " 'Goo',\n",
       " 'goo',\n",
       " 'kadai paneer is good and tasty. But veg biryani is sweet in taste and not spicy. could be made better.',\n",
       " 'happy',\n",
       " 'biryani was masala less.\\npieces were not cooked fully.\\nthey can serve extra onions & lemon.',\n",
       " 'goo',\n",
       " 'goo',\n",
       " 'cockroach on the food !',\n",
       " 'owf',\n",
       " 'Good quantity and tasty',\n",
       " 'wesome foo',\n",
       " 'Was okayish....my instructions for food were not followed properly',\n",
       " 'he order was sent wrongly and unable to reach the restauran',\n",
       " 'nic',\n",
       " '',\n",
       " 'better servic',\n",
       " 'No tas',\n",
       " 'checkin very very  bad tas',\n",
       " 'food is col',\n",
       " 'worst foo',\n",
       " 'good quality and quantity..',\n",
       " 'value for money',\n",
       " 'goo',\n",
       " 'goo',\n",
       " 'vry gd but  pls reduce oil',\n",
       " 'goo',\n",
       " 'i have ordered biryani from this restaurent,the biryani need more spicy and need to improve tase too',\n",
       " 'pricable food good keet it lyk this.........',\n",
       " 'goo',\n",
       " 'goo',\n",
       " 'came at 11',\n",
       " 'nice foo',\n",
       " 'very goo',\n",
       " 'good deliver',\n",
       " 'good service..',\n",
       " 'goo',\n",
       " 'fantastic foo',\n",
       " 'Taste not goo',\n",
       " 'good, but quantity is less',\n",
       " 'n',\n",
       " 'The food was great but the delivery person was arrogant, illmannered n very annoying. Will never order again',\n",
       " 'fin',\n",
       " 'he biriyani is too good!! very tasty food.. enough quantity with reasonable pric',\n",
       " 'super delivery by tim',\n",
       " 'Amazing food. Thanks a lot.',\n",
       " \"it's not kind of a Punjabi chicken .\",\n",
       " 'Goo',\n",
       " 'Nic',\n",
       " 'Amazing food... thanks for authentic andhra foo',\n",
       " 'goo',\n",
       " 'goo',\n",
       " 'great to order',\n",
       " 'nic',\n",
       " 'love everytime , I order',\n",
       " 'ven though I mentioned in order , called and told delivery boy and hotel asking for extra curry pocket which they agreed and got miss',\n",
       " 'great to us',\n",
       " 'n',\n",
       " 'gu',\n",
       " 'Did not feel like a chicken biryani, too much tomato, not much spice.',\n",
       " 'I ordered tangidi kebab\\nbut got tandoori leg pieces',\n",
       " 'quantity is good. Test is below averag',\n",
       " 'w chicken in chicken biryani.. I ignored 2 times but this is continuous third time, so has to put in comments.',\n",
       " 'Food is goo',\n",
       " 'biriyani is just perfect!!',\n",
       " 'NICE GUY',\n",
       " 'Biriyani was very bad😡',\n",
       " 'ordered special biriyani and was good.',\n",
       " 'gu',\n",
       " 'nic',\n",
       " 'very good taste and servic',\n",
       " 'Awesome. Briyani Quantity is too high for one person.',\n",
       " 'very goo',\n",
       " 'Goo',\n",
       " 'chicken pieces are little bit har',\n",
       " 'goo',\n",
       " 'chicken biryani was worst. they served egg instead of chicken pieces in chicken biryani. what kind of service is this?',\n",
       " 'Barbecue chicken was not worthy.',\n",
       " 'super taste thnq Hyderabad spice for giving this tasty food delivery also fas',\n",
       " \"hey didn't provide the extra gravy as requested....it's wasn't adequate for 2 biryanis...\",\n",
       " 'no taste...plzzz improv',\n",
       " 'Chicken quantity for the curry is very less',\n",
       " 'I asked for butter roti, instead they deivered normal roti with the billing for butter roti.',\n",
       " 'he wors',\n",
       " 'chicken 65 is wros',\n",
       " 'fast delivery',\n",
       " 'food was not goo',\n",
       " 'goo',\n",
       " 'ste is awesom',\n",
       " 'goo',\n",
       " 'i have requested for the plates bt  resturant not provided hw can a person eat without a plates .',\n",
       " 'goo',\n",
       " 'not satisfied that biriyani',\n",
       " 'quality not goo',\n",
       " 'osm',\n",
       " 'goo',\n",
       " 'The chicken had a wierd smell.',\n",
       " 'goo',\n",
       " 'god delivery',\n",
       " 'good servic',\n",
       " 'fasggood servic',\n",
       " 'Proper Hyderabadi biriyani and chicken. But most chicken dishes taste the same and may be using the same spices. The special chicken biriyani is good sometimes but really awful sometimes. Please be consisten']"
      ]
     },
     "execution_count": 111,
     "metadata": {},
     "output_type": "execute_result"
    }
   ],
   "source": [
    "reviews"
   ]
  },
  {
   "cell_type": "code",
   "execution_count": null,
   "metadata": {},
   "outputs": [],
   "source": []
  }
 ],
 "metadata": {
  "kernelspec": {
   "display_name": "Python 3",
   "language": "python",
   "name": "python3"
  },
  "language_info": {
   "codemirror_mode": {
    "name": "ipython",
    "version": 3
   },
   "file_extension": ".py",
   "mimetype": "text/x-python",
   "name": "python",
   "nbconvert_exporter": "python",
   "pygments_lexer": "ipython3",
   "version": "3.7.3"
  }
 },
 "nbformat": 4,
 "nbformat_minor": 2
}
